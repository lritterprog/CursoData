{
 "cells": [
  {
   "cell_type": "markdown",
   "id": "b8a48d49-2f16-445f-a86a-50dc1aa4d9be",
   "metadata": {},
   "source": [
    "# Data Science Tools and Ecosystem"
   ]
  },
  {
   "cell_type": "markdown",
   "id": "587b4be2-e6d7-4546-94e7-49062dab52cc",
   "metadata": {},
   "source": [
    "In this notebook, Data Science Tools and Ecosystem are summarized."
   ]
  },
  {
   "cell_type": "markdown",
   "id": "5432c628-30c7-41c2-9964-454149748eef",
   "metadata": {},
   "source": [
    "**Objectives**"
   ]
  },
  {
   "cell_type": "markdown",
   "id": "00334357-6718-4c82-82b6-c568302b6f9f",
   "metadata": {},
   "source": [
    "1. List popular languages for Data Science\n",
    "2. List popular Data Science Tools\n",
    "3. List popular Library used by Data Scientists"
   ]
  },
  {
   "cell_type": "markdown",
   "id": "2f710960-e25e-468e-a9a2-5220915601c7",
   "metadata": {
    "tags": []
   },
   "source": [
    "## Author: Luciana Ritter"
   ]
  },
  {
   "cell_type": "markdown",
   "id": "9d5254a1-05b7-4a55-98e9-f8c042e50f9c",
   "metadata": {},
   "source": [
    "Some of the popular languages that Data Scientists use are:\n",
    "1. Python\n",
    "2. Java\n",
    "3. C++\n",
    "4. C"
   ]
  },
  {
   "cell_type": "markdown",
   "id": "f84ad24e-d483-47a5-9bb3-004e8cc8a96d",
   "metadata": {},
   "source": [
    "Some of the commonly used libraries used by Data Scientists include:"
   ]
  },
  {
   "cell_type": "markdown",
   "id": "dd83a51b-8d96-464b-a4c0-be241844ed6e",
   "metadata": {},
   "source": [
    "1. Numpy\n",
    "2. Matplotlib\n",
    "3. Pandas"
   ]
  },
  {
   "cell_type": "markdown",
   "id": "987e269c-94aa-4ba0-9716-3b2f68fa3444",
   "metadata": {},
   "source": [
    "| Data Science Tools | \n",
    "| -------------| \n",
    "| JupyterLab|\n",
    "|ApacheSpark|\n",
    "|Rstudio|\n",
    "\n"
   ]
  },
  {
   "cell_type": "markdown",
   "id": "0e1cddd5-f827-4105-aed4-b05d5af7a645",
   "metadata": {},
   "source": [
    "### Below are a few examples of evaluating arithmetic expressions in Python"
   ]
  },
  {
   "cell_type": "code",
   "execution_count": null,
   "id": "c97727bd-4fda-4992-b356-8ebde35ced08",
   "metadata": {},
   "outputs": [],
   "source": [
    "This a simple arithmetic expression to mutiply then add integers"
   ]
  },
  {
   "cell_type": "code",
   "execution_count": null,
   "id": "ee5dcd83-fc12-4018-b653-08821eb378bd",
   "metadata": {
    "tags": []
   },
   "outputs": [],
   "source": [
    "(3*4)+5"
   ]
  },
  {
   "cell_type": "code",
   "execution_count": null,
   "id": "ac7fe539-7b72-4b9a-aea0-2f8073988b70",
   "metadata": {
    "tags": []
   },
   "outputs": [],
   "source": [
    "This will convert 200 minutes to hours by diving by 60"
   ]
  },
  {
   "cell_type": "code",
   "execution_count": null,
   "id": "2a75ec54-03f2-49ed-842a-96ba12eca8d3",
   "metadata": {
    "tags": []
   },
   "outputs": [],
   "source": [
    "200/60"
   ]
  },
  {
   "cell_type": "code",
   "execution_count": null,
   "id": "fd559109-6c44-4184-b01e-439ec6c7722c",
   "metadata": {},
   "outputs": [],
   "source": []
  }
 ],
 "metadata": {
  "kernelspec": {
   "display_name": "Python",
   "language": "python",
   "name": "conda-env-python-py"
  },
  "language_info": {
   "codemirror_mode": {
    "name": "ipython",
    "version": 3
   },
   "file_extension": ".py",
   "mimetype": "text/x-python",
   "name": "python",
   "nbconvert_exporter": "python",
   "pygments_lexer": "ipython3",
   "version": "3.7.12"
  }
 },
 "nbformat": 4,
 "nbformat_minor": 5
}
